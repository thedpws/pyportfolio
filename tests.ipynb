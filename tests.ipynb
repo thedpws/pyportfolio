{
 "cells": [
  {
   "metadata": {
    "ExecuteTime": {
     "end_time": "2024-12-09T21:23:45.950347Z",
     "start_time": "2024-12-09T21:23:45.694276Z"
    }
   },
   "cell_type": "code",
   "source": "from pyportfolio import Portfolio",
   "id": "d8673530a7dc1dfe",
   "outputs": [
    {
     "ename": "ImportError",
     "evalue": "cannot import name 'Portfolio' from 'pyportfolio' (unknown location)",
     "output_type": "error",
     "traceback": [
      "\u001B[1;31m---------------------------------------------------------------------------\u001B[0m",
      "\u001B[1;31mImportError\u001B[0m                               Traceback (most recent call last)",
      "Cell \u001B[1;32mIn[1], line 1\u001B[0m\n\u001B[1;32m----> 1\u001B[0m \u001B[38;5;28;01mfrom\u001B[39;00m \u001B[38;5;21;01mpyportfolio\u001B[39;00m \u001B[38;5;28;01mimport\u001B[39;00m Portfolio\n",
      "\u001B[1;31mImportError\u001B[0m: cannot import name 'Portfolio' from 'pyportfolio' (unknown location)"
     ]
    }
   ],
   "execution_count": 1
  }
 ],
 "metadata": {
  "kernelspec": {
   "name": "python3",
   "language": "python",
   "display_name": "Python 3 (ipykernel)"
  }
 },
 "nbformat": 5,
 "nbformat_minor": 9
}

{
 "cells": [
  {
   "metadata": {
    "ExecuteTime": {
     "end_time": "2024-12-09T21:45:25.353341Z",
     "start_time": "2024-12-09T21:45:25.345198Z"
    }
   },
   "cell_type": "code",
   "source": "from pyportfolio import Portfolio, Column",
   "id": "d8673530a7dc1dfe",
   "outputs": [],
   "execution_count": 1
  },
  {
   "metadata": {
    "ExecuteTime": {
     "end_time": "2024-12-09T21:49:36.435963Z",
     "start_time": "2024-12-09T21:49:36.432840Z"
    }
   },
   "cell_type": "code",
   "source": "pf = Portfolio()",
   "id": "74ad59761474a4c7",
   "outputs": [],
   "execution_count": 3
  },
  {
   "metadata": {},
   "cell_type": "code",
   "outputs": [],
   "execution_count": null,
   "source": [
    "# Test empty projection\n",
    "pjxn = pf.project(years=1, units='months', columns=[Column.WEEK, Column.BALANCE])"
   ],
   "id": "781af1d29a341007"
  }
 ],
 "metadata": {
  "kernelspec": {
   "name": "python3",
   "language": "python",
   "display_name": "Python 3 (ipykernel)"
  }
 },
 "nbformat": 5,
 "nbformat_minor": 9
}

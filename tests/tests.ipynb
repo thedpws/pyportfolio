{
 "cells": [
  {
   "metadata": {
    "ExecuteTime": {
     "end_time": "2024-12-09T23:23:45.070677Z",
     "start_time": "2024-12-09T23:23:45.031230Z"
    }
   },
   "cell_type": "code",
   "source": "from pyportfolio import Portfolio, Column",
   "id": "d8673530a7dc1dfe",
   "outputs": [],
   "execution_count": 1
  },
  {
   "metadata": {
    "ExecuteTime": {
     "end_time": "2024-12-09T23:23:45.099303Z",
     "start_time": "2024-12-09T23:23:45.090420Z"
    }
   },
   "cell_type": "code",
   "source": "pf = Portfolio()",
   "id": "74ad59761474a4c7",
   "outputs": [],
   "execution_count": 2
  },
  {
   "metadata": {
    "ExecuteTime": {
     "end_time": "2024-12-09T23:23:45.793005Z",
     "start_time": "2024-12-09T23:23:45.121298Z"
    }
   },
   "cell_type": "code",
   "source": [
    "from datetime import datetime\n",
    "\n",
    "# Test empty projection\n",
    "pjxn = pf.project(years=1, columns=[Column.WEEKS, Column.BALANCE], start=datetime(2024, 1, 1))"
   ],
   "id": "781af1d29a341007",
   "outputs": [
    {
     "ename": "AttributeError",
     "evalue": "WEEKS",
     "output_type": "error",
     "traceback": [
      "\u001B[0;31m---------------------------------------------------------------------------\u001B[0m",
      "\u001B[0;31mAttributeError\u001B[0m                            Traceback (most recent call last)",
      "Cell \u001B[0;32mIn[3], line 4\u001B[0m\n\u001B[1;32m      1\u001B[0m \u001B[38;5;28;01mfrom\u001B[39;00m \u001B[38;5;21;01mdatetime\u001B[39;00m \u001B[38;5;28;01mimport\u001B[39;00m datetime\n\u001B[1;32m      3\u001B[0m \u001B[38;5;66;03m# Test empty projection\u001B[39;00m\n\u001B[0;32m----> 4\u001B[0m pjxn \u001B[38;5;241m=\u001B[39m pf\u001B[38;5;241m.\u001B[39mproject(years\u001B[38;5;241m=\u001B[39m\u001B[38;5;241m1\u001B[39m, units\u001B[38;5;241m=\u001B[39m\u001B[38;5;124m'\u001B[39m\u001B[38;5;124mmonths\u001B[39m\u001B[38;5;124m'\u001B[39m, columns\u001B[38;5;241m=\u001B[39m[\u001B[43mColumn\u001B[49m\u001B[38;5;241;43m.\u001B[39;49m\u001B[43mWEEKS\u001B[49m, Column\u001B[38;5;241m.\u001B[39mBALANCE], start\u001B[38;5;241m=\u001B[39mdatetime(\u001B[38;5;241m2024\u001B[39m, \u001B[38;5;241m1\u001B[39m, \u001B[38;5;241m1\u001B[39m))\n",
      "File \u001B[0;32m/Library/Developer/CommandLineTools/Library/Frameworks/Python3.framework/Versions/3.9/lib/python3.9/enum.py:429\u001B[0m, in \u001B[0;36mEnumMeta.__getattr__\u001B[0;34m(cls, name)\u001B[0m\n\u001B[1;32m    427\u001B[0m     \u001B[38;5;28;01mreturn\u001B[39;00m \u001B[38;5;28mcls\u001B[39m\u001B[38;5;241m.\u001B[39m_member_map_[name]\n\u001B[1;32m    428\u001B[0m \u001B[38;5;28;01mexcept\u001B[39;00m \u001B[38;5;167;01mKeyError\u001B[39;00m:\n\u001B[0;32m--> 429\u001B[0m     \u001B[38;5;28;01mraise\u001B[39;00m \u001B[38;5;167;01mAttributeError\u001B[39;00m(name) \u001B[38;5;28;01mfrom\u001B[39;00m \u001B[38;5;28;01mNone\u001B[39;00m\n",
      "\u001B[0;31mAttributeError\u001B[0m: WEEKS"
     ]
    }
   ],
   "execution_count": 3
  },
  {
   "metadata": {
    "ExecuteTime": {
     "end_time": "2024-12-09T23:23:45.802314Z",
     "start_time": "2024-12-09T22:27:09.942802Z"
    }
   },
   "cell_type": "code",
   "source": [
    "df = pjxn.to_dataframe()\n",
    "\n",
    "assert 0.0  == df[datetime(2024, 1, 1)][Column.BALANCE]\n",
    "assert 0    == df[datetime(2024, 1, 1)][Column.WEEKS]\n",
    "\n",
    "assert 0.0  == df[datetime(2025, 1, 1)][Column.BALANCE]\n",
    "assert 52   == df[datetime(2025, 1, 1)][Column.WEEKS]\n"
   ],
   "id": "570edb3e9179b880",
   "outputs": [
    {
     "ename": "AttributeError",
     "evalue": "'NoneType' object has no attribute 'to_dataframe'",
     "output_type": "error",
     "traceback": [
      "\u001B[1;31m---------------------------------------------------------------------------\u001B[0m",
      "\u001B[1;31mAttributeError\u001B[0m                            Traceback (most recent call last)",
      "Cell \u001B[1;32mIn[5], line 1\u001B[0m\n\u001B[1;32m----> 1\u001B[0m df \u001B[38;5;241m=\u001B[39m \u001B[43mpjxn\u001B[49m\u001B[38;5;241;43m.\u001B[39;49m\u001B[43mto_dataframe\u001B[49m()\n\u001B[0;32m      3\u001B[0m \u001B[38;5;28;01massert\u001B[39;00m \u001B[38;5;241m0.0\u001B[39m \u001B[38;5;241m==\u001B[39m df[datetime(\u001B[38;5;241m2024\u001B[39m, \u001B[38;5;241m1\u001B[39m, \u001B[38;5;241m1\u001B[39m)]\n\u001B[0;32m      4\u001B[0m \u001B[38;5;28;01massert\u001B[39;00m \u001B[38;5;241m0.0\u001B[39m \u001B[38;5;241m==\u001B[39m df[datetime(\u001B[38;5;241m2025\u001B[39m, \u001B[38;5;241m1\u001B[39m, \u001B[38;5;241m1\u001B[39m)]\n",
      "\u001B[1;31mAttributeError\u001B[0m: 'NoneType' object has no attribute 'to_dataframe'"
     ]
    }
   ],
   "execution_count": 5
  }
 ],
 "metadata": {
  "kernelspec": {
   "name": "python3",
   "language": "python",
   "display_name": "Python 3 (ipykernel)"
  }
 },
 "nbformat": 5,
 "nbformat_minor": 9
}

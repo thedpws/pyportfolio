{
 "cells": [
  {
   "metadata": {
    "ExecuteTime": {
     "end_time": "2024-12-09T22:11:22.263067Z",
     "start_time": "2024-12-09T22:11:22.258874Z"
    }
   },
   "cell_type": "code",
   "source": "from pyportfolio import Portfolio, Column",
   "id": "d8673530a7dc1dfe",
   "outputs": [],
   "execution_count": 2
  },
  {
   "metadata": {
    "ExecuteTime": {
     "end_time": "2024-12-09T22:11:23.691551Z",
     "start_time": "2024-12-09T22:11:23.688539Z"
    }
   },
   "cell_type": "code",
   "source": "pf = Portfolio()",
   "id": "74ad59761474a4c7",
   "outputs": [],
   "execution_count": 3
  },
  {
   "metadata": {
    "ExecuteTime": {
     "end_time": "2024-12-09T22:11:24.901517Z",
     "start_time": "2024-12-09T22:11:24.898524Z"
    }
   },
   "cell_type": "code",
   "source": [
    "from datetime import datetime\n",
    "\n",
    "# Test empty projection\n",
    "pjxn = pf.project(years=1, units='months', columns=[Column.WEEKS, Column.BALANCE], start=datetime(2024, 1, 1))"
   ],
   "id": "781af1d29a341007",
   "outputs": [],
   "execution_count": 4
  },
  {
   "metadata": {
    "ExecuteTime": {
     "end_time": "2024-12-09T22:27:09.959239Z",
     "start_time": "2024-12-09T22:27:09.942802Z"
    }
   },
   "cell_type": "code",
   "source": [
    "df = pjxn.to_dataframe()\n",
    "\n",
    "assert 0.0  == df[datetime(2024, 1, 1)][Column.BALANCE]\n",
    "assert 0    == df[datetime(2024, 1, 1)][Column.WEEKS]\n",
    "\n",
    "assert 0.0  == df[datetime(2025, 1, 1)][Column.BALANCE]\n",
    "assert 52   == df[datetime(2025, 1, 1)][Column.WEEKS]\n"
   ],
   "id": "570edb3e9179b880",
   "outputs": [
    {
     "ename": "AttributeError",
     "evalue": "'NoneType' object has no attribute 'to_dataframe'",
     "output_type": "error",
     "traceback": [
      "\u001B[1;31m---------------------------------------------------------------------------\u001B[0m",
      "\u001B[1;31mAttributeError\u001B[0m                            Traceback (most recent call last)",
      "Cell \u001B[1;32mIn[5], line 1\u001B[0m\n\u001B[1;32m----> 1\u001B[0m df \u001B[38;5;241m=\u001B[39m \u001B[43mpjxn\u001B[49m\u001B[38;5;241;43m.\u001B[39;49m\u001B[43mto_dataframe\u001B[49m()\n\u001B[0;32m      3\u001B[0m \u001B[38;5;28;01massert\u001B[39;00m \u001B[38;5;241m0.0\u001B[39m \u001B[38;5;241m==\u001B[39m df[datetime(\u001B[38;5;241m2024\u001B[39m, \u001B[38;5;241m1\u001B[39m, \u001B[38;5;241m1\u001B[39m)]\n\u001B[0;32m      4\u001B[0m \u001B[38;5;28;01massert\u001B[39;00m \u001B[38;5;241m0.0\u001B[39m \u001B[38;5;241m==\u001B[39m df[datetime(\u001B[38;5;241m2025\u001B[39m, \u001B[38;5;241m1\u001B[39m, \u001B[38;5;241m1\u001B[39m)]\n",
      "\u001B[1;31mAttributeError\u001B[0m: 'NoneType' object has no attribute 'to_dataframe'"
     ]
    }
   ],
   "execution_count": 5
  }
 ],
 "metadata": {
  "kernelspec": {
   "name": "python3",
   "language": "python",
   "display_name": "Python 3 (ipykernel)"
  }
 },
 "nbformat": 5,
 "nbformat_minor": 9
}
